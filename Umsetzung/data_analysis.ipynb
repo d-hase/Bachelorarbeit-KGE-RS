{
 "cells": [
  {
   "cell_type": "code",
   "execution_count": 17,
   "metadata": {},
   "outputs": [],
   "source": [
    "#imports\n",
    "import json\n",
    "import csv\n",
    "\n",
    "#file references\n",
    "data_processed = \"skinny_data.json\""
   ]
  },
  {
   "cell_type": "code",
   "execution_count": 31,
   "metadata": {},
   "outputs": [
    {
     "ename": "",
     "evalue": "",
     "output_type": "error",
     "traceback": [
      "\u001b[1;31mThe Kernel crashed while executing code in the the current cell or a previous cell. Please review the code in the cell(s) to identify a possible cause of the failure. Click <a href='https://aka.ms/vscodeJupyterKernelCrash'>here</a> for more info. View Jupyter <a href='command:jupyter.viewOutput'>log</a> for further details."
     ]
    }
   ],
   "source": [
    "############################################################\n",
    "# load JSON file\n",
    "############################################################\n",
    "json_file = open(data_processed)\n",
    "json_str = json_file.read()\n",
    "json_data = json.loads(json_str) # is list of dicts\n",
    "\n",
    "skinny_data = json_data"
   ]
  },
  {
   "cell_type": "code",
   "execution_count": 26,
   "metadata": {},
   "outputs": [
    {
     "name": "stdout",
     "output_type": "stream",
     "text": [
      "nbr entries:  8471\n",
      "{'Szene': 11441, 'Handlung': 8803, 'Person': 34042, 'Kleidung': 121180, 'Koerperteil': 30744, 'Objekt': 124742, 'Originalzitat': 7377, 'Ort': 2890, 'Historischer Ort': 112}\n"
     ]
    }
   ],
   "source": [
    "#new dicts that only contain relations/entities (easier to grab data)\n",
    "entity_types = []\n",
    "entity_dic = {}\n",
    "rel_types = []\n",
    "rel_dic = {}\n",
    "print('nbr entries: ', len(skinny_data))\n",
    "for diction in skinny_data:\n",
    "    for key, value in diction.items():\n",
    "        for k, v in value.items():\n",
    "            if k == 'entities':\n",
    "                for x in v:\n",
    "                    for ke, va in x.items():\n",
    "                        if ke == 'type':\n",
    "                            if va in entity_dic:\n",
    "                                entity_dic[va]+=1\n",
    "                            else:\n",
    "                                entity_dic[va]=1\n",
    "                            entity_types.append(va)\n",
    "            if k == 'relations':\n",
    "                for x in v:\n",
    "                    if x[2] in rel_dic:\n",
    "                        rel_dic[x[2]]+=1\n",
    "                    else:\n",
    "                        rel_dic[x[2]]=1\n",
    "                    rel_types.append(x[2])\n",
    "\n",
    "print(entity_dic)"
   ]
  },
  {
   "cell_type": "code",
   "execution_count": 27,
   "metadata": {},
   "outputs": [
    {
     "name": "stdout",
     "output_type": "stream",
     "text": [
      "341331\n",
      "331737\n"
     ]
    }
   ],
   "source": [
    "print(len(entity_types))\n",
    "print(len(rel_types))\n",
    "#entity_type_counts = {i:entity_types.count(i) for i in entity_types}"
   ]
  },
  {
   "cell_type": "code",
   "execution_count": null,
   "metadata": {},
   "outputs": [],
   "source": [
    "#print(len(rel_types))\n",
    "#rel_type_counts = {i:rel_types.count(i) for i in rel_types}"
   ]
  },
  {
   "cell_type": "code",
   "execution_count": 30,
   "metadata": {},
   "outputs": [],
   "source": [
    "with open('entity_types.csv', 'w') as f:\n",
    "    for key in entity_dic.keys():\n",
    "        f.write(\"%s,%s\\n\"%(key,entity_dic[key]))\n",
    "\n",
    "with open('rel_types.csv', 'w') as f:\n",
    "    for key in rel_dic.keys():\n",
    "        f.write(\"%s,%s\\n\"%(key,rel_dic[key]))\n",
    "    "
   ]
  }
 ],
 "metadata": {
  "kernelspec": {
   "display_name": "Python 3",
   "language": "python",
   "name": "python3"
  },
  "language_info": {
   "codemirror_mode": {
    "name": "ipython",
    "version": 3
   },
   "file_extension": ".py",
   "mimetype": "text/x-python",
   "name": "python",
   "nbconvert_exporter": "python",
   "pygments_lexer": "ipython3",
   "version": "3.10.11"
  },
  "orig_nbformat": 4
 },
 "nbformat": 4,
 "nbformat_minor": 2
}
